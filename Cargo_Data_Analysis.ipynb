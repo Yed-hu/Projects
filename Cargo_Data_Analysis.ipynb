{
  "nbformat": 4,
  "nbformat_minor": 0,
  "metadata": {
    "colab": {
      "provenance": [],
      "authorship_tag": "ABX9TyOPQUoxXJqgGiBluxok0Q6g",
      "include_colab_link": true
    },
    "kernelspec": {
      "name": "python3",
      "display_name": "Python 3"
    },
    "language_info": {
      "name": "python"
    }
  },
  "cells": [
    {
      "cell_type": "markdown",
      "metadata": {
        "id": "view-in-github",
        "colab_type": "text"
      },
      "source": [
        "<a href=\"https://colab.research.google.com/github/Yed-hu/Projects/blob/main/Cargo_Data_Analysis.ipynb\" target=\"_parent\"><img src=\"https://colab.research.google.com/assets/colab-badge.svg\" alt=\"Open In Colab\"/></a>"
      ]
    },
    {
      "cell_type": "code",
      "source": [
        "from pyspark.sql import SparkSession\n",
        "spark = SparkSession.builder.appName(\"CargoProject\").getOrCreate()"
      ],
      "metadata": {
        "id": "OY77lGh5pp7P"
      },
      "execution_count": 1,
      "outputs": []
    },
    {
      "cell_type": "code",
      "execution_count": 2,
      "metadata": {
        "colab": {
          "base_uri": "https://localhost:8080/",
          "height": 177
        },
        "collapsed": true,
        "id": "obRWl11xpQ0E",
        "outputId": "e6e69f2e-fac8-4993-ce4f-117a2c608386"
      },
      "outputs": [
        {
          "output_type": "display_data",
          "data": {
            "text/plain": [
              "<IPython.core.display.HTML object>"
            ],
            "text/html": [
              "\n",
              "     <input type=\"file\" id=\"files-fe370153-af56-46d0-a26a-0f7dbf5fa82f\" name=\"files[]\" multiple disabled\n",
              "        style=\"border:none\" />\n",
              "     <output id=\"result-fe370153-af56-46d0-a26a-0f7dbf5fa82f\">\n",
              "      Upload widget is only available when the cell has been executed in the\n",
              "      current browser session. Please rerun this cell to enable.\n",
              "      </output>\n",
              "      <script>// Copyright 2017 Google LLC\n",
              "//\n",
              "// Licensed under the Apache License, Version 2.0 (the \"License\");\n",
              "// you may not use this file except in compliance with the License.\n",
              "// You may obtain a copy of the License at\n",
              "//\n",
              "//      http://www.apache.org/licenses/LICENSE-2.0\n",
              "//\n",
              "// Unless required by applicable law or agreed to in writing, software\n",
              "// distributed under the License is distributed on an \"AS IS\" BASIS,\n",
              "// WITHOUT WARRANTIES OR CONDITIONS OF ANY KIND, either express or implied.\n",
              "// See the License for the specific language governing permissions and\n",
              "// limitations under the License.\n",
              "\n",
              "/**\n",
              " * @fileoverview Helpers for google.colab Python module.\n",
              " */\n",
              "(function(scope) {\n",
              "function span(text, styleAttributes = {}) {\n",
              "  const element = document.createElement('span');\n",
              "  element.textContent = text;\n",
              "  for (const key of Object.keys(styleAttributes)) {\n",
              "    element.style[key] = styleAttributes[key];\n",
              "  }\n",
              "  return element;\n",
              "}\n",
              "\n",
              "// Max number of bytes which will be uploaded at a time.\n",
              "const MAX_PAYLOAD_SIZE = 100 * 1024;\n",
              "\n",
              "function _uploadFiles(inputId, outputId) {\n",
              "  const steps = uploadFilesStep(inputId, outputId);\n",
              "  const outputElement = document.getElementById(outputId);\n",
              "  // Cache steps on the outputElement to make it available for the next call\n",
              "  // to uploadFilesContinue from Python.\n",
              "  outputElement.steps = steps;\n",
              "\n",
              "  return _uploadFilesContinue(outputId);\n",
              "}\n",
              "\n",
              "// This is roughly an async generator (not supported in the browser yet),\n",
              "// where there are multiple asynchronous steps and the Python side is going\n",
              "// to poll for completion of each step.\n",
              "// This uses a Promise to block the python side on completion of each step,\n",
              "// then passes the result of the previous step as the input to the next step.\n",
              "function _uploadFilesContinue(outputId) {\n",
              "  const outputElement = document.getElementById(outputId);\n",
              "  const steps = outputElement.steps;\n",
              "\n",
              "  const next = steps.next(outputElement.lastPromiseValue);\n",
              "  return Promise.resolve(next.value.promise).then((value) => {\n",
              "    // Cache the last promise value to make it available to the next\n",
              "    // step of the generator.\n",
              "    outputElement.lastPromiseValue = value;\n",
              "    return next.value.response;\n",
              "  });\n",
              "}\n",
              "\n",
              "/**\n",
              " * Generator function which is called between each async step of the upload\n",
              " * process.\n",
              " * @param {string} inputId Element ID of the input file picker element.\n",
              " * @param {string} outputId Element ID of the output display.\n",
              " * @return {!Iterable<!Object>} Iterable of next steps.\n",
              " */\n",
              "function* uploadFilesStep(inputId, outputId) {\n",
              "  const inputElement = document.getElementById(inputId);\n",
              "  inputElement.disabled = false;\n",
              "\n",
              "  const outputElement = document.getElementById(outputId);\n",
              "  outputElement.innerHTML = '';\n",
              "\n",
              "  const pickedPromise = new Promise((resolve) => {\n",
              "    inputElement.addEventListener('change', (e) => {\n",
              "      resolve(e.target.files);\n",
              "    });\n",
              "  });\n",
              "\n",
              "  const cancel = document.createElement('button');\n",
              "  inputElement.parentElement.appendChild(cancel);\n",
              "  cancel.textContent = 'Cancel upload';\n",
              "  const cancelPromise = new Promise((resolve) => {\n",
              "    cancel.onclick = () => {\n",
              "      resolve(null);\n",
              "    };\n",
              "  });\n",
              "\n",
              "  // Wait for the user to pick the files.\n",
              "  const files = yield {\n",
              "    promise: Promise.race([pickedPromise, cancelPromise]),\n",
              "    response: {\n",
              "      action: 'starting',\n",
              "    }\n",
              "  };\n",
              "\n",
              "  cancel.remove();\n",
              "\n",
              "  // Disable the input element since further picks are not allowed.\n",
              "  inputElement.disabled = true;\n",
              "\n",
              "  if (!files) {\n",
              "    return {\n",
              "      response: {\n",
              "        action: 'complete',\n",
              "      }\n",
              "    };\n",
              "  }\n",
              "\n",
              "  for (const file of files) {\n",
              "    const li = document.createElement('li');\n",
              "    li.append(span(file.name, {fontWeight: 'bold'}));\n",
              "    li.append(span(\n",
              "        `(${file.type || 'n/a'}) - ${file.size} bytes, ` +\n",
              "        `last modified: ${\n",
              "            file.lastModifiedDate ? file.lastModifiedDate.toLocaleDateString() :\n",
              "                                    'n/a'} - `));\n",
              "    const percent = span('0% done');\n",
              "    li.appendChild(percent);\n",
              "\n",
              "    outputElement.appendChild(li);\n",
              "\n",
              "    const fileDataPromise = new Promise((resolve) => {\n",
              "      const reader = new FileReader();\n",
              "      reader.onload = (e) => {\n",
              "        resolve(e.target.result);\n",
              "      };\n",
              "      reader.readAsArrayBuffer(file);\n",
              "    });\n",
              "    // Wait for the data to be ready.\n",
              "    let fileData = yield {\n",
              "      promise: fileDataPromise,\n",
              "      response: {\n",
              "        action: 'continue',\n",
              "      }\n",
              "    };\n",
              "\n",
              "    // Use a chunked sending to avoid message size limits. See b/62115660.\n",
              "    let position = 0;\n",
              "    do {\n",
              "      const length = Math.min(fileData.byteLength - position, MAX_PAYLOAD_SIZE);\n",
              "      const chunk = new Uint8Array(fileData, position, length);\n",
              "      position += length;\n",
              "\n",
              "      const base64 = btoa(String.fromCharCode.apply(null, chunk));\n",
              "      yield {\n",
              "        response: {\n",
              "          action: 'append',\n",
              "          file: file.name,\n",
              "          data: base64,\n",
              "        },\n",
              "      };\n",
              "\n",
              "      let percentDone = fileData.byteLength === 0 ?\n",
              "          100 :\n",
              "          Math.round((position / fileData.byteLength) * 100);\n",
              "      percent.textContent = `${percentDone}% done`;\n",
              "\n",
              "    } while (position < fileData.byteLength);\n",
              "  }\n",
              "\n",
              "  // All done.\n",
              "  yield {\n",
              "    response: {\n",
              "      action: 'complete',\n",
              "    }\n",
              "  };\n",
              "}\n",
              "\n",
              "scope.google = scope.google || {};\n",
              "scope.google.colab = scope.google.colab || {};\n",
              "scope.google.colab._files = {\n",
              "  _uploadFiles,\n",
              "  _uploadFilesContinue,\n",
              "};\n",
              "})(self);\n",
              "</script> "
            ]
          },
          "metadata": {}
        },
        {
          "output_type": "stream",
          "name": "stdout",
          "text": [
            "Saving transactions.csv to transactions.csv\n",
            "Saving shipments.csv to shipments.csv\n",
            "Saving delivery_feedback.csv to delivery_feedback.csv\n",
            "Saving customers.csv to customers.csv\n"
          ]
        }
      ],
      "source": [
        "from google.colab import files\n",
        "uploaded = files.upload()\n",
        "\n",
        "#upload the data files\n",
        "# customers\n",
        "# shipments\n",
        "# transactions\n",
        "# feedbacks"
      ]
    },
    {
      "cell_type": "code",
      "source": [
        "customers_df = spark.read.csv(\"/content/customers.csv\", header=True, inferSchema= True)\n",
        "shipments_df = spark.read.csv(\"/content/shipments.csv\", header=True, inferSchema= True)\n",
        "transactions_df = spark.read.csv(\"/content/transactions.csv\", header= True, inferSchema=True)\n",
        "feedbacks_df = spark.read.csv(\"/content/delivery_feedback.csv\", header= True, inferSchema= True)"
      ],
      "metadata": {
        "id": "QgGmTcG9qPlM"
      },
      "execution_count": 3,
      "outputs": []
    },
    {
      "cell_type": "code",
      "source": [
        "customers_df.printSchema()\n",
        "customers_df.show(5)"
      ],
      "metadata": {
        "colab": {
          "base_uri": "https://localhost:8080/"
        },
        "id": "Pf8CoIplr69j",
        "outputId": "09a806e6-f558-4cdf-f871-4ba91e62a261"
      },
      "execution_count": 4,
      "outputs": [
        {
          "output_type": "stream",
          "name": "stdout",
          "text": [
            "root\n",
            " |-- _c0: integer (nullable = true)\n",
            " |-- customer_id: string (nullable = true)\n",
            " |-- first_name: string (nullable = true)\n",
            " |-- last_name: string (nullable = true)\n",
            " |-- email: string (nullable = true)\n",
            " |-- phone: long (nullable = true)\n",
            " |-- dob: date (nullable = true)\n",
            " |-- nationality: string (nullable = true)\n",
            " |-- region: string (nullable = true)\n",
            " |-- country_of_residence: string (nullable = true)\n",
            " |-- occupation: string (nullable = true)\n",
            " |-- customer_type: string (nullable = true)\n",
            " |-- account_creation_date: date (nullable = true)\n",
            "\n",
            "+---+-----------+----------+---------+--------------------+------------+----------+-----------+------------------+--------------------+--------------------+-------------+---------------------+\n",
            "|_c0|customer_id|first_name|last_name|               email|       phone|       dob|nationality|            region|country_of_residence|          occupation|customer_type|account_creation_date|\n",
            "+---+-----------+----------+---------+--------------------+------------+----------+-----------+------------------+--------------------+--------------------+-------------+---------------------+\n",
            "|  0|    CUST655|     Jason|  Simmons|jasonsimmons114@g...|917026855092|1992-07-17|     Indain|          Thrissur|       United States|Working Professional|      Regular|           2023-01-20|\n",
            "|  1|    CUST143|    Robert|  Stewart|robertstewart754@...|917110053353|1972-04-01|     Indain|    Pathanamthitta|             Belgium|             Student|          New|           2022-08-28|\n",
            "|  2|    CUST433|   Michael|   Turner|michaelturner32@g...|917031994523|1994-09-25|     Indain|         Ernakulam|            Malaysia|Working Professional|          New|           2022-09-22|\n",
            "|  3|    CUST617| Alexander|   Benson|alexanderbenson27...|917602632297|1999-07-25|     Indain|            Kannur|             Denmark|             Retired|      Regular|           2024-06-01|\n",
            "|  4|    CUST460|     Megan|     Tran|megantran603@gmai...|917298704996|1994-08-29|     Indain|Thiruvananthapuram|United Arab Emirates|Working Professional|          New|           2024-09-22|\n",
            "+---+-----------+----------+---------+--------------------+------------+----------+-----------+------------------+--------------------+--------------------+-------------+---------------------+\n",
            "only showing top 5 rows\n",
            "\n"
          ]
        }
      ]
    },
    {
      "cell_type": "code",
      "source": [
        "shipments_df.show(5)\n",
        "shipments_df.printSchema()"
      ],
      "metadata": {
        "colab": {
          "base_uri": "https://localhost:8080/"
        },
        "id": "VUVJNpGqsI9y",
        "outputId": "cc01393d-0692-4bb7-dae5-1afb09d7f6cd"
      },
      "execution_count": 5,
      "outputs": [
        {
          "output_type": "stream",
          "name": "stdout",
          "text": [
            "+---+-----------+-----------+--------------+-------------------+-----------+----------------+-----------------+-------------------+-------------+-------------+---------------+---------------+-----------------+-------------------+-----------+------------+\n",
            "|_c0|shipment_id|customer_id|origin_country|destination_country|origin_city|destination_city|           weight|             volume|shipment_date|delivery_date|delivery_status|  shipment_type|customs_clearance|cargo_provider_name| cargo_type|service_type|\n",
            "+---+-----------+-----------+--------------+-------------------+-----------+----------------+-----------------+-------------------+-------------+-------------+---------------+---------------+-----------------+-------------------+-----------+------------+\n",
            "|  0|   SHIP7575|     CUST35|         India|      United States|     Kollam|      South Jane|46.21837223975306|  4.888725669313287|   2024-04-20|   2024-04-27|        Delayed|       Document|             true|                DHL|Air Freight|    Standard|\n",
            "|  1|  SHIP11804|    CUST142|         India|        Switzerland|  Alappuzha|      Gordonberg|80.35801416635428|  1.632264824117545|   2024-09-05|   2024-09-09|      Delivered|       Document|             true|                DHL|Air Freight|     Economy|\n",
            "|  2|   SHIP5588|    CUST670|         India|            Bahrain|   Kottayam| South Randyland|33.53742178078898|  4.483185325151689|   2024-04-04|   2024-04-11|       Canceled|       Document|            false|         India Post|Sea Freight|    Standard|\n",
            "|  3|  SHIP13133|    CUST733|         India|            Denmark|   Palakkad|      Goodmanton|40.62477237186344|  2.337039564788208|   2025-02-07|   2025-02-16|       Canceled|Household Goods|            false|                UPS|     Ground|    Standard|\n",
            "|  4|   SHIP4343|    CUST319|         India|     United Kingdom|  Alappuzha|    Williamsland| 69.9208174788557|0.38736733875936913|   2024-05-15|   2024-05-20|      Delivered|Household Goods|             true|           BlueDart|Sea Freight|     Economy|\n",
            "+---+-----------+-----------+--------------+-------------------+-----------+----------------+-----------------+-------------------+-------------+-------------+---------------+---------------+-----------------+-------------------+-----------+------------+\n",
            "only showing top 5 rows\n",
            "\n",
            "root\n",
            " |-- _c0: integer (nullable = true)\n",
            " |-- shipment_id: string (nullable = true)\n",
            " |-- customer_id: string (nullable = true)\n",
            " |-- origin_country: string (nullable = true)\n",
            " |-- destination_country: string (nullable = true)\n",
            " |-- origin_city: string (nullable = true)\n",
            " |-- destination_city: string (nullable = true)\n",
            " |-- weight: double (nullable = true)\n",
            " |-- volume: double (nullable = true)\n",
            " |-- shipment_date: date (nullable = true)\n",
            " |-- delivery_date: date (nullable = true)\n",
            " |-- delivery_status: string (nullable = true)\n",
            " |-- shipment_type: string (nullable = true)\n",
            " |-- customs_clearance: boolean (nullable = true)\n",
            " |-- cargo_provider_name: string (nullable = true)\n",
            " |-- cargo_type: string (nullable = true)\n",
            " |-- service_type: string (nullable = true)\n",
            "\n"
          ]
        }
      ]
    },
    {
      "cell_type": "code",
      "source": [
        "transactions_df.printSchema()\n",
        "transactions_df.show(5)"
      ],
      "metadata": {
        "colab": {
          "base_uri": "https://localhost:8080/"
        },
        "id": "xXgSJ4OUvDAZ",
        "outputId": "9dacfe57-e974-47ed-944d-90a0f9457b60"
      },
      "execution_count": 6,
      "outputs": [
        {
          "output_type": "stream",
          "name": "stdout",
          "text": [
            "root\n",
            " |-- _c0: integer (nullable = true)\n",
            " |-- transaction_id: string (nullable = true)\n",
            " |-- customer_id: string (nullable = true)\n",
            " |-- shipment_id: string (nullable = true)\n",
            " |-- transaction_date: date (nullable = true)\n",
            " |-- transaction_amount: double (nullable = true)\n",
            " |-- payment_method: string (nullable = true)\n",
            " |-- transaction_status: string (nullable = true)\n",
            "\n",
            "+---+--------------+-----------+-----------+----------------+------------------+--------------+------------------+\n",
            "|_c0|transaction_id|customer_id|shipment_id|transaction_date|transaction_amount|payment_method|transaction_status|\n",
            "+---+--------------+-----------+-----------+----------------+------------------+--------------+------------------+\n",
            "|  0|      TRAN8113|      CUST9|   SHIP3991|      2025-01-20| 71494.66204052712|           COD|              Paid|\n",
            "|  1|     TRAN14864|    CUST172|  SHIP10578|      2023-08-03| 1022.844756058191|   Credit Card|              Paid|\n",
            "|  2|     TRAN13481|    CUST356|  SHIP11633|      2023-05-29| 74943.92070407548|           COD|              Paid|\n",
            "|  3|      TRAN3577|    CUST195|  SHIP12274|      2025-03-14| 41632.92377678932| Bank Transfer|              Paid|\n",
            "|  4|     TRAN13643|    CUST416|  SHIP13980|      2023-08-27| 9207.684980478298|    Debit Card|              Paid|\n",
            "+---+--------------+-----------+-----------+----------------+------------------+--------------+------------------+\n",
            "only showing top 5 rows\n",
            "\n"
          ]
        }
      ]
    },
    {
      "cell_type": "code",
      "source": [
        "feedbacks_df.show(5)\n",
        "feedbacks_df.printSchema()"
      ],
      "metadata": {
        "colab": {
          "base_uri": "https://localhost:8080/"
        },
        "id": "G027GB5wtDkN",
        "outputId": "c631a497-e7ea-4e90-dab8-f7c2327446e6"
      },
      "execution_count": 7,
      "outputs": [
        {
          "output_type": "stream",
          "name": "stdout",
          "text": [
            "+---+-----------+-----------+-----------+-------------+---------------+--------------+-------------+----------------+\n",
            "|_c0|feedback_id|shipment_id|customer_id|delivery_time|delivery_rating|issue_reported|   issue_type|complaint_status|\n",
            "+---+-----------+-----------+-----------+-------------+---------------+--------------+-------------+----------------+\n",
            "|  0|     FD8969|   SHIP7770|    CUST747|            6|              3|          true|Wrong Address|         Pending|\n",
            "|  1|    FD15977|  SHIP23248|    CUST539|            1|              1|         false|         NULL|            NULL|\n",
            "|  2|      FD164|  SHIP11172|    CUST327|            3|              4|          true|         Lost|      Unresolved|\n",
            "|  3|    FD24984|   SHIP3414|    CUST729|            3|              5|          true|       Damage|        Resolved|\n",
            "|  4|    FD13944|  SHIP24348|    CUST668|            7|              1|          true|         Lost|         Pending|\n",
            "+---+-----------+-----------+-----------+-------------+---------------+--------------+-------------+----------------+\n",
            "only showing top 5 rows\n",
            "\n",
            "root\n",
            " |-- _c0: integer (nullable = true)\n",
            " |-- feedback_id: string (nullable = true)\n",
            " |-- shipment_id: string (nullable = true)\n",
            " |-- customer_id: string (nullable = true)\n",
            " |-- delivery_time: integer (nullable = true)\n",
            " |-- delivery_rating: integer (nullable = true)\n",
            " |-- issue_reported: boolean (nullable = true)\n",
            " |-- issue_type: string (nullable = true)\n",
            " |-- complaint_status: string (nullable = true)\n",
            "\n"
          ]
        }
      ]
    },
    {
      "cell_type": "code",
      "source": [
        "customers_df = customers_df.drop('_c0')\n",
        "shipments_df = shipments_df.drop('_c0')\n",
        "transactions_df = transactions_df.drop('_c0')\n",
        "feedbacks_df = feedbacks_df.drop('_c0')"
      ],
      "metadata": {
        "id": "wttMsF-RvSJ8"
      },
      "execution_count": 8,
      "outputs": []
    },
    {
      "cell_type": "code",
      "source": [
        "customers_df.show(5)"
      ],
      "metadata": {
        "colab": {
          "base_uri": "https://localhost:8080/"
        },
        "id": "r95TXV_Cx9pF",
        "outputId": "f771bc75-a294-44aa-b11e-a715a1848ffd"
      },
      "execution_count": 9,
      "outputs": [
        {
          "output_type": "stream",
          "name": "stdout",
          "text": [
            "+-----------+----------+---------+--------------------+------------+----------+-----------+------------------+--------------------+--------------------+-------------+---------------------+\n",
            "|customer_id|first_name|last_name|               email|       phone|       dob|nationality|            region|country_of_residence|          occupation|customer_type|account_creation_date|\n",
            "+-----------+----------+---------+--------------------+------------+----------+-----------+------------------+--------------------+--------------------+-------------+---------------------+\n",
            "|    CUST655|     Jason|  Simmons|jasonsimmons114@g...|917026855092|1992-07-17|     Indain|          Thrissur|       United States|Working Professional|      Regular|           2023-01-20|\n",
            "|    CUST143|    Robert|  Stewart|robertstewart754@...|917110053353|1972-04-01|     Indain|    Pathanamthitta|             Belgium|             Student|          New|           2022-08-28|\n",
            "|    CUST433|   Michael|   Turner|michaelturner32@g...|917031994523|1994-09-25|     Indain|         Ernakulam|            Malaysia|Working Professional|          New|           2022-09-22|\n",
            "|    CUST617| Alexander|   Benson|alexanderbenson27...|917602632297|1999-07-25|     Indain|            Kannur|             Denmark|             Retired|      Regular|           2024-06-01|\n",
            "|    CUST460|     Megan|     Tran|megantran603@gmai...|917298704996|1994-08-29|     Indain|Thiruvananthapuram|United Arab Emirates|Working Professional|          New|           2024-09-22|\n",
            "+-----------+----------+---------+--------------------+------------+----------+-----------+------------------+--------------------+--------------------+-------------+---------------------+\n",
            "only showing top 5 rows\n",
            "\n"
          ]
        }
      ]
    },
    {
      "cell_type": "code",
      "source": [
        "from pyspark.sql.functions import to_date\n",
        "\n",
        "customers_df = customers_df.withColumn(\"dob\",to_date(\"dob\")).withColumn(\"account_creation_date\", to_date(\"account_creation_date\"))\n",
        "\n",
        "shipments_df = shipments_df.withColumn(\"shipment_date\", to_date(\"shipment_date\")) \\\n",
        "                           .withColumn(\"delivery_date\", to_date(\"delivery_date\"))\n",
        "\n",
        "transactions_df = transactions_df.withColumn(\"transaction_date\", to_date(\"transaction_date\"))"
      ],
      "metadata": {
        "id": "kagPhpQVygXH"
      },
      "execution_count": 10,
      "outputs": []
    },
    {
      "cell_type": "code",
      "source": [
        "customers_df.groupBy(\"nationality\").count().orderBy(\"count\", ascending = False).show()"
      ],
      "metadata": {
        "colab": {
          "base_uri": "https://localhost:8080/"
        },
        "id": "Ga5vEObAzOuo",
        "outputId": "8006697d-931a-4905-d0f9-ad7aa13e8116"
      },
      "execution_count": 11,
      "outputs": [
        {
          "output_type": "stream",
          "name": "stdout",
          "text": [
            "+-----------+-----+\n",
            "|nationality|count|\n",
            "+-----------+-----+\n",
            "|     Indain|  750|\n",
            "+-----------+-----+\n",
            "\n"
          ]
        }
      ]
    },
    {
      "cell_type": "code",
      "source": [
        "customers_df.groupBy(\"country_of_residence\").count().orderBy(\"count\", ascending = False).show()"
      ],
      "metadata": {
        "colab": {
          "base_uri": "https://localhost:8080/"
        },
        "id": "FelxLIzZ0CpY",
        "outputId": "236b9f1d-3216-4cae-f898-3142dfb7b5ea"
      },
      "execution_count": 12,
      "outputs": [
        {
          "output_type": "stream",
          "name": "stdout",
          "text": [
            "+--------------------+-----+\n",
            "|country_of_residence|count|\n",
            "+--------------------+-----+\n",
            "|              Greece|   34|\n",
            "|              Sweden|   33|\n",
            "|             Belgium|   33|\n",
            "|             Germany|   31|\n",
            "|              Kuwait|   31|\n",
            "|              Norway|   31|\n",
            "|              Canada|   31|\n",
            "|             Denmark|   30|\n",
            "|           Australia|   30|\n",
            "|             Bahrain|   30|\n",
            "|         Switzerland|   29|\n",
            "|      United Kingdom|   29|\n",
            "|           Singapore|   28|\n",
            "|              France|   28|\n",
            "|               Italy|   28|\n",
            "|        South Africa|   28|\n",
            "|            Malaysia|   27|\n",
            "|       United States|   26|\n",
            "|             Ireland|   26|\n",
            "|                Oman|   26|\n",
            "+--------------------+-----+\n",
            "only showing top 20 rows\n",
            "\n"
          ]
        }
      ]
    },
    {
      "cell_type": "code",
      "source": [
        "from pyspark.sql.functions import year, current_date\n",
        "\n",
        "customers_df = customers_df.withColumn(\"age\",2025-year(\"dob\"))\n",
        "customers_df.select(\"first_name\",\"last_name\",\"age\").show(5)"
      ],
      "metadata": {
        "colab": {
          "base_uri": "https://localhost:8080/"
        },
        "id": "ve9JunaN4K9m",
        "outputId": "83685c25-7bce-4a43-f530-c52ac13b5ae5"
      },
      "execution_count": 13,
      "outputs": [
        {
          "output_type": "stream",
          "name": "stdout",
          "text": [
            "+----------+---------+---+\n",
            "|first_name|last_name|age|\n",
            "+----------+---------+---+\n",
            "|     Jason|  Simmons| 33|\n",
            "|    Robert|  Stewart| 53|\n",
            "|   Michael|   Turner| 31|\n",
            "| Alexander|   Benson| 26|\n",
            "|     Megan|     Tran| 31|\n",
            "+----------+---------+---+\n",
            "only showing top 5 rows\n",
            "\n"
          ]
        }
      ]
    },
    {
      "cell_type": "code",
      "source": [
        "customers_df.groupBy(\"customer_type\").count().show()"
      ],
      "metadata": {
        "colab": {
          "base_uri": "https://localhost:8080/"
        },
        "id": "iYd2fxlK4gIG",
        "outputId": "af7244e5-95dd-4184-d9bc-938e6ee606f6"
      },
      "execution_count": 14,
      "outputs": [
        {
          "output_type": "stream",
          "name": "stdout",
          "text": [
            "+-------------+-----+\n",
            "|customer_type|count|\n",
            "+-------------+-----+\n",
            "|      Regular|  249|\n",
            "|          New|  264|\n",
            "|          VIP|  237|\n",
            "+-------------+-----+\n",
            "\n"
          ]
        }
      ]
    },
    {
      "cell_type": "code",
      "source": [
        "customers_df.groupBy(\"region\").count().orderBy(\"count\", ascending = False).show()"
      ],
      "metadata": {
        "colab": {
          "base_uri": "https://localhost:8080/"
        },
        "id": "2EZ6nkFP5OeX",
        "outputId": "e27a3373-6fbe-457a-f09d-84b1e83a9cd4"
      },
      "execution_count": 15,
      "outputs": [
        {
          "output_type": "stream",
          "name": "stdout",
          "text": [
            "+------------------+-----+\n",
            "|            region|count|\n",
            "+------------------+-----+\n",
            "|          Kottayam|   65|\n",
            "|    Pathanamthitta|   63|\n",
            "|            Kollam|   62|\n",
            "|         Kozhikode|   61|\n",
            "|            Kannur|   59|\n",
            "|         Kasaragod|   58|\n",
            "|            Idukki|   57|\n",
            "|          Thrissur|   53|\n",
            "|Thiruvananthapuram|   52|\n",
            "|        Malappuram|   50|\n",
            "|           Wayanad|   46|\n",
            "|         Ernakulam|   45|\n",
            "|          Palakkad|   44|\n",
            "|         Alappuzha|   35|\n",
            "+------------------+-----+\n",
            "\n"
          ]
        }
      ]
    },
    {
      "cell_type": "code",
      "source": [
        "customers_df.groupBy(\"occupation\").count().show()"
      ],
      "metadata": {
        "colab": {
          "base_uri": "https://localhost:8080/"
        },
        "id": "wyxBRtkj6PSX",
        "outputId": "a13f0871-16fa-40c4-bf3a-88c300db2106"
      },
      "execution_count": 16,
      "outputs": [
        {
          "output_type": "stream",
          "name": "stdout",
          "text": [
            "+--------------------+-----+\n",
            "|          occupation|count|\n",
            "+--------------------+-----+\n",
            "|             Student|  196|\n",
            "|Working Professional|  190|\n",
            "|            Business|  184|\n",
            "|             Retired|  180|\n",
            "+--------------------+-----+\n",
            "\n"
          ]
        }
      ]
    },
    {
      "cell_type": "code",
      "source": [
        "shipments_df.groupBy(\"destination_country\").count().orderBy(\"count\",ascending=False).show()"
      ],
      "metadata": {
        "colab": {
          "base_uri": "https://localhost:8080/"
        },
        "id": "NzRXZOQSeHGC",
        "outputId": "56a2fb4b-7b48-415d-f775-c035921d0095"
      },
      "execution_count": 17,
      "outputs": [
        {
          "output_type": "stream",
          "name": "stdout",
          "text": [
            "+-------------------+-----+\n",
            "|destination_country|count|\n",
            "+-------------------+-----+\n",
            "|            Belgium| 1160|\n",
            "|             Greece| 1111|\n",
            "|             Kuwait| 1109|\n",
            "|             Sweden| 1076|\n",
            "|             Canada| 1056|\n",
            "|            Germany| 1038|\n",
            "|             Norway| 1007|\n",
            "|            Denmark|  988|\n",
            "|     United Kingdom|  975|\n",
            "|        Switzerland|  965|\n",
            "|          Australia|  963|\n",
            "|            Bahrain|  962|\n",
            "|          Singapore|  961|\n",
            "|             France|  950|\n",
            "|       South Africa|  941|\n",
            "|              Italy|  938|\n",
            "|            Ireland|  892|\n",
            "|           Malaysia|  872|\n",
            "|       Saudi Arabia|  855|\n",
            "|               Oman|  845|\n",
            "+-------------------+-----+\n",
            "only showing top 20 rows\n",
            "\n"
          ]
        }
      ]
    },
    {
      "cell_type": "code",
      "source": [
        "from pyspark.sql.functions import datediff, avg, round\n",
        "\n",
        "shipments_df = shipments_df.withColumn(\"delivery_time_days\", datediff(\"delivery_date\",\"shipment_date\"))\n",
        "\n",
        "shipments_df.select(\"shipment_id\", \"delivery_time_days\").show(5)\n",
        "shipments_df.select(round(avg(\"delivery_time_days\"))).show()"
      ],
      "metadata": {
        "colab": {
          "base_uri": "https://localhost:8080/"
        },
        "id": "lRG3jdR0fT1o",
        "outputId": "eba91473-7199-400f-b778-62efda88e073"
      },
      "execution_count": 25,
      "outputs": [
        {
          "output_type": "stream",
          "name": "stdout",
          "text": [
            "+-----------+------------------+\n",
            "|shipment_id|delivery_time_days|\n",
            "+-----------+------------------+\n",
            "|   SHIP7575|                 7|\n",
            "|  SHIP11804|                 4|\n",
            "|   SHIP5588|                 7|\n",
            "|  SHIP13133|                 9|\n",
            "|   SHIP4343|                 5|\n",
            "+-----------+------------------+\n",
            "only showing top 5 rows\n",
            "\n",
            "+---------------------------------+\n",
            "|round(avg(delivery_time_days), 0)|\n",
            "+---------------------------------+\n",
            "|                              6.0|\n",
            "+---------------------------------+\n",
            "\n"
          ]
        }
      ]
    },
    {
      "cell_type": "code",
      "source": [
        "from pyspark.sql.functions import sum\n",
        "\n",
        "transactions_df.select(round(sum(\"transaction_amount\")/1e7,2).alias(\"total_transaction_amountin_crores\")).show()   # converting into crores (1e7)\n"
      ],
      "metadata": {
        "colab": {
          "base_uri": "https://localhost:8080/"
        },
        "id": "V1fL1nusfvJ3",
        "outputId": "450c778b-3826-4e85-f38c-5c11ef682843"
      },
      "execution_count": 33,
      "outputs": [
        {
          "output_type": "stream",
          "name": "stdout",
          "text": [
            "+---------------------------------+\n",
            "|total_transaction_amountin_crores|\n",
            "+---------------------------------+\n",
            "|                           125.97|\n",
            "+---------------------------------+\n",
            "\n"
          ]
        }
      ]
    },
    {
      "cell_type": "code",
      "source": [],
      "metadata": {
        "id": "2wlAd0Iphg8q"
      },
      "execution_count": null,
      "outputs": []
    }
  ]
}